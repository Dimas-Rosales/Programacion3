{
  "nbformat": 4,
  "nbformat_minor": 0,
  "metadata": {
    "colab": {
      "provenance": [],
      "authorship_tag": "ABX9TyN3W/+0zJY2UOK42AEXNIkd",
      "include_colab_link": true
    },
    "kernelspec": {
      "name": "python3",
      "display_name": "Python 3"
    },
    "language_info": {
      "name": "python"
    }
  },
  "cells": [
    {
      "cell_type": "markdown",
      "metadata": {
        "id": "view-in-github",
        "colab_type": "text"
      },
      "source": [
        "<a href=\"https://colab.research.google.com/github/Dimas-Rosales/Programacion3/blob/main/Tarjetas.ipynb\" target=\"_parent\"><img src=\"https://colab.research.google.com/assets/colab-badge.svg\" alt=\"Open In Colab\"/></a>"
      ]
    },
    {
      "cell_type": "markdown",
      "source": [
        "Dimas Israel Melara Rosales - USIS047021\n",
        "Karla Daniela Torres Esperanza - USIS046821\n",
        "Rigoberto Alexander Mejía Sorto - USIS034921\n",
        "Alvaro Antonio Rivera Moran - USIS039521\n",
        "\n"
      ],
      "metadata": {
        "id": "QuFKIr7qjAMI"
      }
    },
    {
      "cell_type": "code",
      "execution_count": null,
      "metadata": {
        "id": "yXqh4p8b0ETJ"
      },
      "outputs": [],
      "source": [
        "import pandas as pd\n",
        "import matplotlib.pyplot as plt"
      ]
    },
    {
      "cell_type": "code",
      "source": [
        "#Uso de tarjetas de credito\n",
        "creditos= pd.read_csv(\"/content/trx_tarjetas_credito.csv\", sep=\",\", encoding=\"utf-8\")\n",
        "print(creditos)"
      ],
      "metadata": {
        "colab": {
          "base_uri": "https://localhost:8080/"
        },
        "id": "4yxIuBIn08_v",
        "outputId": "5ca83fb6-47cc-47be-c104-9885676cdf3d"
      },
      "execution_count": null,
      "outputs": [
        {
          "output_type": "stream",
          "name": "stdout",
          "text": [
            "                  City       Date  Card Type Exp Type Gender  Amount\n",
            "Delhi            India  29-Oct-14       Gold    Bills      F   82475\n",
            "Greater Mumbai   India  22-Aug-14   Platinum    Bills      F   32555\n",
            "Bengaluru        India  27-Aug-14     Silver    Bills      F  101738\n",
            "Greater Mumbai   India  12-Apr-14  Signature    Bills      F  123424\n",
            "Bengaluru        India   5-May-15       Gold    Bills      F  171574\n",
            "...                ...        ...        ...      ...    ...     ...\n",
            "Kolkata          India  22-Jun-14     Silver   Travel      F  128191\n",
            "Pune             India   3-Aug-14  Signature   Travel      M  246316\n",
            "Hyderabad        India  16-Jan-15     Silver   Travel      M  265019\n",
            "Kanpur           India  14-Sep-14     Silver   Travel      M   88174\n",
            "Hyderabad        India  19-Oct-13  Signature    Bills      M  184410\n",
            "\n",
            "[26052 rows x 6 columns]\n"
          ]
        }
      ]
    },
    {
      "cell_type": "code",
      "source": [
        "#Uso de tarjetas por género\n",
        "genero= pd.crosstab(index= creditos[\"Gender\"], columns=\"fr\")\n",
        "print(genero)"
      ],
      "metadata": {
        "colab": {
          "base_uri": "https://localhost:8080/"
        },
        "id": "GxUpO19o23Js",
        "outputId": "f7906759-cbdd-4cf5-eecb-cfc007b26de4"
      },
      "execution_count": null,
      "outputs": [
        {
          "output_type": "stream",
          "name": "stdout",
          "text": [
            "col_0      fr\n",
            "Gender       \n",
            "F       13680\n",
            "M       12372\n"
          ]
        }
      ]
    },
    {
      "cell_type": "code",
      "source": [
        "#Gráfica de uso de tarjetas por genero\n",
        "genero= pd.crosstab(index= creditos[\"Gender\"], columns=\"fr\")\n",
        "plt.pie(genero,labels=genero.index)\n",
        "plt.xlabel(\"Tarjetas por genero\")\n",
        "plt.show()\n",
        "genero.to_csv(\"/content/genero.csv\")"
      ],
      "metadata": {
        "colab": {
          "base_uri": "https://localhost:8080/",
          "height": 317
        },
        "id": "3eCnmcoV3QEJ",
        "outputId": "a9a7f65a-1dff-4c59-cc68-c08fe6ebe276"
      },
      "execution_count": null,
      "outputs": [
        {
          "output_type": "stream",
          "name": "stderr",
          "text": [
            "/usr/local/lib/python3.7/dist-packages/ipykernel_launcher.py:3: MatplotlibDeprecationWarning: Non-1D inputs to pie() are currently squeeze()d, but this behavior is deprecated since 3.1 and will be removed in 3.3; pass a 1D array instead.\n",
            "  This is separate from the ipykernel package so we can avoid doing imports until\n"
          ]
        },
        {
          "output_type": "display_data",
          "data": {
            "text/plain": [
              "<Figure size 432x288 with 1 Axes>"
            ],
            "image/png": "[encoded data removed]"
          },
          "metadata": {}
        }
      ]
    },
    {
      "cell_type": "code",
      "source": [
        "#Uso de tarjetas por tipo\n",
        "print(creditos.groupby(by=[\"Card Type\"]).sum())"
      ],
      "metadata": {
        "colab": {
          "base_uri": "https://localhost:8080/"
        },
        "id": "o_GHsziK3_Q3",
        "outputId": "59afe8ac-a257-4ced-b779-ae367f127d55"
      },
      "execution_count": null,
      "outputs": [
        {
          "output_type": "stream",
          "name": "stdout",
          "text": [
            "               Amount\n",
            "Card Type            \n",
            "Gold        984539536\n",
            "Platinum   1007639019\n",
            "Signature  1013041105\n",
            "Silver     1069613713\n"
          ]
        }
      ]
    },
    {
      "cell_type": "code",
      "source": [
        "#Gráficas de uso de tarjetas por tipo\n",
        "tarjeta= pd.crosstab(index= creditos[\"Card Type\"], columns=\"fr\")\n",
        "plt.pie(tarjeta,labels=tarjeta.index)\n",
        "plt.xlabel(\"Uso de tarjetas por su tipo\")\n",
        "plt.show()\n",
        "tarjeta.to_csv(\"/content/tarjetas.csv\")"
      ],
      "metadata": {
        "colab": {
          "base_uri": "https://localhost:8080/",
          "height": 317
        },
        "id": "M5oZmcAb4ZG4",
        "outputId": "378bf850-87ab-444b-b9e9-f6b7d682ea67"
      },
      "execution_count": null,
      "outputs": [
        {
          "output_type": "stream",
          "name": "stderr",
          "text": [
            "/usr/local/lib/python3.7/dist-packages/ipykernel_launcher.py:3: MatplotlibDeprecationWarning: Non-1D inputs to pie() are currently squeeze()d, but this behavior is deprecated since 3.1 and will be removed in 3.3; pass a 1D array instead.\n",
            "  This is separate from the ipykernel package so we can avoid doing imports until\n"
          ]
        },
        {
          "output_type": "display_data",
          "data": {
            "text/plain": [
              "<Figure size 432x288 with 1 Axes>"
            ],
            "image/png": "[encoded data removed]"
          },
          "metadata": {}
        }
      ]
    },
    {
      "cell_type": "code",
      "source": [
        "#Uso de tarjetas por ciudad\n",
        "print(creditos.groupby(by=[\"City\"]).sum())"
      ],
      "metadata": {
        "colab": {
          "base_uri": "https://localhost:8080/"
        },
        "id": "lkM3dUfD5v14",
        "outputId": "8c3bc35b-e322-4857-d3e3-d4850ce223e6"
      },
      "execution_count": null,
      "outputs": [
        {
          "output_type": "stream",
          "name": "stdout",
          "text": [
            "            Amount\n",
            "City              \n",
            " India  4074833373\n"
          ]
        }
      ]
    },
    {
      "cell_type": "code",
      "source": [
        "#Gráfica del uso de tarjetas por ciudad\n",
        "ciudad= pd.crosstab(index= creditos[\"City\"], columns= \"fr\")\n",
        "plt.pie(ciudad, labels=ciudad.index)\n",
        "plt.xlabel(\"Uso de tarjetas por ciudad\")\n",
        "plt.show()\n",
        "ciudad.to_csv(\"/content/ciudad.csv\")\n",
        "#No se porqué solo lee una ciudad "
      ],
      "metadata": {
        "colab": {
          "base_uri": "https://localhost:8080/",
          "height": 317
        },
        "id": "Ju2eq8215DnJ",
        "outputId": "641f6356-b6ea-4d53-a7d1-be265a769847"
      },
      "execution_count": null,
      "outputs": [
        {
          "output_type": "stream",
          "name": "stderr",
          "text": [
            "/usr/local/lib/python3.7/dist-packages/ipykernel_launcher.py:3: MatplotlibDeprecationWarning: Non-1D inputs to pie() are currently squeeze()d, but this behavior is deprecated since 3.1 and will be removed in 3.3; pass a 1D array instead.\n",
            "  This is separate from the ipykernel package so we can avoid doing imports until\n"
          ]
        },
        {
          "output_type": "display_data",
          "data": {
            "text/plain": [
              "<Figure size 432x288 with 1 Axes>"
            ],
            "image/png": "[encoded data removed]"
          },
          "metadata": {}
        }
      ]
    },
    {
      "cell_type": "code",
      "source": [
        "#Uso de las tarjetas \n",
        "print(creditos.groupby(by= [\"Exp Type\"]).sum().groupby(level=[0]).cumsum())"
      ],
      "metadata": {
        "colab": {
          "base_uri": "https://localhost:8080/"
        },
        "id": "V659Njip6NGT",
        "outputId": "65bd5d7a-f9b9-4793-a746-903b7e6e7cbe"
      },
      "execution_count": null,
      "outputs": [
        {
          "output_type": "stream",
          "name": "stdout",
          "text": [
            "                  Amount\n",
            "Exp Type                \n",
            "Bills          907072473\n",
            "Entertainment  726437536\n",
            "Food           824724009\n",
            "Fuel           789135821\n",
            "Grocery        718207923\n",
            "Travel         109255611\n"
          ]
        }
      ]
    },
    {
      "cell_type": "code",
      "source": [
        "#Gráfica del uso de las tarjetas\n",
        "uso= pd.crosstab(index= creditos[\"Exp Type\"], columns= \"fr\")\n",
        "plt.pie(uso, labels= uso.index)\n",
        "plt.xlabel(\"Uso de las tarjetas\")\n",
        "plt.show()\n",
        "uso.to_csv(\"/content/uso.csv\")"
      ],
      "metadata": {
        "colab": {
          "base_uri": "https://localhost:8080/",
          "height": 317
        },
        "id": "I6JwQF6D6itq",
        "outputId": "ad31449f-5b7c-42f1-9484-784835b0f6c3"
      },
      "execution_count": null,
      "outputs": [
        {
          "output_type": "stream",
          "name": "stderr",
          "text": [
            "/usr/local/lib/python3.7/dist-packages/ipykernel_launcher.py:3: MatplotlibDeprecationWarning: Non-1D inputs to pie() are currently squeeze()d, but this behavior is deprecated since 3.1 and will be removed in 3.3; pass a 1D array instead.\n",
            "  This is separate from the ipykernel package so we can avoid doing imports until\n"
          ]
        },
        {
          "output_type": "display_data",
          "data": {
            "text/plain": [
              "<Figure size 432x288 with 1 Axes>"
            ],
            "image/png": "[encoded data removed]"
          },
          "metadata": {}
        }
      ]
    }
  ]
}